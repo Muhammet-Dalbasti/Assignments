{
 "cells": [
  {
   "cell_type": "markdown",
   "metadata": {},
   "source": [
    "# June 15"
   ]
  },
  {
   "cell_type": "code",
   "execution_count": null,
   "metadata": {},
   "outputs": [],
   "source": [
    "ord(\"a\")  # Return the Unicode code point for a one-character string.\n",
    "          # ord() fonksiyonu (ordinal  için kısaltma) parametre olarak gönderilen karakteri temsil eden integer değeri döndürür.\n",
    "          # ASCII karakterler için dönüş değeri, 7-bit ASCII koddur.\n",
    "          # Unicode karakterler için, Unicode code point değeri elde edilir.\n",
    "            \n"
   ]
  },
  {
   "cell_type": "code",
   "execution_count": null,
   "metadata": {},
   "outputs": [],
   "source": [
    "chr(97)  # ord() fonksiyonundan gelen bir integer'ı karakter karşılığına dönüştürmek için chr() fonksiyonu kullanılır.\n"
   ]
  },
  {
   "cell_type": "code",
   "execution_count": null,
   "metadata": {},
   "outputs": [],
   "source": [
    "word = \"School\"\n",
    "\n",
    "for let in word:\n",
    "    print(ord(let))"
   ]
  },
  {
   "cell_type": "code",
   "execution_count": null,
   "metadata": {},
   "outputs": [],
   "source": [
    "a = 43\n",
    "a.bit_length()  # Number of bits necessary to represent self in binary.\n",
    "(43).bit_length()"
   ]
  },
  {
   "cell_type": "code",
   "execution_count": null,
   "metadata": {},
   "outputs": [],
   "source": [
    "bin(73)  # Return the binary representation of an integer."
   ]
  },
  {
   "cell_type": "code",
   "execution_count": null,
   "metadata": {},
   "outputs": [],
   "source": [
    "# Now we will calculate the how many bits do we need.\n",
    "\n",
    "word = \"School\"\n",
    "tot_bit = 0\n",
    "\n",
    "for let in word:\n",
    "    tot_bit += (ord(let)).bit_length()\n",
    "\n",
    "print(tot_bit)"
   ]
  },
  {
   "cell_type": "markdown",
   "metadata": {},
   "source": [
    "# June 16"
   ]
  },
  {
   "cell_type": "code",
   "execution_count": 67,
   "metadata": {},
   "outputs": [],
   "source": [
    "# Heads and tail 1\n",
    "\n",
    "import numpy as np"
   ]
  },
  {
   "cell_type": "code",
   "execution_count": 73,
   "metadata": {},
   "outputs": [
    {
     "name": "stdout",
     "output_type": "stream",
     "text": [
      "498 502\n"
     ]
    }
   ],
   "source": [
    "heads = 0\n",
    "tail = 0\n",
    "\n",
    "for i in range(1000):\n",
    "    for num in np.random.randint(0,2,1):\n",
    "        if num == 0:\n",
    "            heads += 1\n",
    "        else:\n",
    "            tail += 1\n",
    "            \n",
    "print(heads, tail)"
   ]
  },
  {
   "cell_type": "code",
   "execution_count": 69,
   "metadata": {},
   "outputs": [],
   "source": [
    "# HEADS AND TAIL 2\n",
    "\n",
    "random.choice()  # random.choice(seq)\n",
    "                 # Docstring: Choose a random element from a non-empty sequence."
   ]
  },
  {
   "cell_type": "code",
   "execution_count": 75,
   "metadata": {},
   "outputs": [
    {
     "name": "stdout",
     "output_type": "stream",
     "text": [
      "519 481\n"
     ]
    }
   ],
   "source": [
    "import random\n",
    "\n",
    "list1=[random.choice([\"heads\", \"tails\"]) for i in range(1000)]\n",
    "\n",
    "print(f'{list1.count(\"heads\")} {list1.count(\"tails\")}') "
   ]
  },
  {
   "cell_type": "code",
   "execution_count": 91,
   "metadata": {},
   "outputs": [],
   "source": [
    "#  nth number in fibonacci series.\n",
    "\n",
    "def fib(n):\n",
    "    phi = (1 + 5**0.5) / 2\n",
    "    x = (phi**n - (1-phi)**n) / 5**.5\n",
    "    return round(x)"
   ]
  },
  {
   "cell_type": "code",
   "execution_count": 97,
   "metadata": {},
   "outputs": [
    {
     "data": {
      "text/plain": [
       "144"
      ]
     },
     "execution_count": 97,
     "metadata": {},
     "output_type": "execute_result"
    }
   ],
   "source": [
    "fib(12)"
   ]
  },
  {
   "cell_type": "markdown",
   "metadata": {},
   "source": [
    "# June 17"
   ]
  },
  {
   "cell_type": "code",
   "execution_count": 17,
   "metadata": {},
   "outputs": [
    {
     "name": "stdout",
     "output_type": "stream",
     "text": [
      "Please specify the len of the fib  number's list: 3\n",
      "[0, 1, 1]\n"
     ]
    }
   ],
   "source": [
    "# Fibonacci series with the len of series.  1111111\n",
    "\n",
    "fib_list = [0,1]\n",
    "\n",
    "xn_2 = 0\n",
    "xn_1 = 1\n",
    "\n",
    "n = int(input(\"Please specify the len of the fib  number's list: \"))\n",
    "\n",
    "if n == 1:\n",
    "    print(fib_list[0])\n",
    "elif n == 2:\n",
    "    print(fib_list)\n",
    "elif n > 2:\n",
    "    \n",
    "    for num in range(n-2):\n",
    "        xn = xn_1 + xn_2\n",
    "        fib_list.append(xn)\n",
    "        xn_2 = xn_1\n",
    "        xn_1 = xn\n",
    "    print(fib_list)\n",
    "        \n",
    "else:\n",
    "    print(\"No Answer\")"
   ]
  },
  {
   "cell_type": "code",
   "execution_count": 27,
   "metadata": {},
   "outputs": [
    {
     "name": "stdout",
     "output_type": "stream",
     "text": [
      "Please enter a number : 0\n",
      "[]\n"
     ]
    }
   ],
   "source": [
    "n= int(input(\"Please enter a number : \")) 222222222\n",
    "A=[0,1]\n",
    "i=2\n",
    "while len(A)<=n:\n",
    "  A.append(A[i-1]+A[i-2])\n",
    "  i+=1\n",
    "print(A[:n])"
   ]
  },
  {
   "cell_type": "code",
   "execution_count": null,
   "metadata": {},
   "outputs": [],
   "source": []
  }
 ],
 "metadata": {
  "kernelspec": {
   "display_name": "Python 3",
   "language": "python",
   "name": "python3"
  },
  "language_info": {
   "codemirror_mode": {
    "name": "ipython",
    "version": 3
   },
   "file_extension": ".py",
   "mimetype": "text/x-python",
   "name": "python",
   "nbconvert_exporter": "python",
   "pygments_lexer": "ipython3",
   "version": "3.8.3"
  }
 },
 "nbformat": 4,
 "nbformat_minor": 4
}
