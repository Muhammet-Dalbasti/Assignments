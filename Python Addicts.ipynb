{
 "cells": [
  {
   "cell_type": "markdown",
   "metadata": {},
   "source": [
    "# June 15"
   ]
  },
  {
   "cell_type": "code",
   "execution_count": null,
   "metadata": {},
   "outputs": [],
   "source": [
    "ord(\"a\")  # Return the Unicode code point for a one-character string.\n",
    "          # ord() fonksiyonu (ordinal  için kısaltma) parametre olarak gönderilen karakteri temsil eden integer değeri döndürür.\n",
    "          # ASCII karakterler için dönüş değeri, 7-bit ASCII koddur.\n",
    "          # Unicode karakterler için, Unicode code point değeri elde edilir.\n",
    "            \n"
   ]
  },
  {
   "cell_type": "code",
   "execution_count": null,
   "metadata": {},
   "outputs": [],
   "source": [
    "chr(97)  # ord() fonksiyonundan gelen bir integer'ı karakter karşılığına dönüştürmek için chr() fonksiyonu kullanılır.\n"
   ]
  },
  {
   "cell_type": "code",
   "execution_count": null,
   "metadata": {},
   "outputs": [],
   "source": [
    "word = \"School\"\n",
    "\n",
    "for let in word:\n",
    "    print(ord(let))"
   ]
  },
  {
   "cell_type": "code",
   "execution_count": null,
   "metadata": {},
   "outputs": [],
   "source": [
    "a = 43\n",
    "a.bit_length()  # Number of bits necessary to represent self in binary.\n",
    "(43).bit_length()"
   ]
  },
  {
   "cell_type": "code",
   "execution_count": null,
   "metadata": {},
   "outputs": [],
   "source": [
    "bin(73)  # Return the binary representation of an integer."
   ]
  },
  {
   "cell_type": "code",
   "execution_count": null,
   "metadata": {},
   "outputs": [],
   "source": [
    "# Now we will calculate the how many bits do we need.\n",
    "\n",
    "word = \"School\"\n",
    "tot_bit = 0\n",
    "\n",
    "for let in word:\n",
    "    tot_bit += (ord(let)).bit_length()\n",
    "\n",
    "print(tot_bit)"
   ]
  },
  {
   "cell_type": "markdown",
   "metadata": {},
   "source": [
    "# June 16"
   ]
  },
  {
   "cell_type": "code",
   "execution_count": 67,
   "metadata": {},
   "outputs": [],
   "source": [
    "# Heads and tail 1\n",
    "\n",
    "import numpy as np"
   ]
  },
  {
   "cell_type": "code",
   "execution_count": 73,
   "metadata": {},
   "outputs": [
    {
     "name": "stdout",
     "output_type": "stream",
     "text": [
      "498 502\n"
     ]
    }
   ],
   "source": [
    "heads = 0\n",
    "tail = 0\n",
    "\n",
    "for i in range(1000):\n",
    "    for num in np.random.randint(0,2,1):\n",
    "        if num == 0:\n",
    "            heads += 1\n",
    "        else:\n",
    "            tail += 1\n",
    "            \n",
    "print(heads, tail)"
   ]
  },
  {
   "cell_type": "code",
   "execution_count": 69,
   "metadata": {},
   "outputs": [],
   "source": [
    "# HEADS AND TAIL 2\n",
    "\n",
    "random.choice()  # random.choice(seq)\n",
    "                 # Docstring: Choose a random element from a non-empty sequence."
   ]
  },
  {
   "cell_type": "code",
   "execution_count": 75,
   "metadata": {},
   "outputs": [
    {
     "name": "stdout",
     "output_type": "stream",
     "text": [
      "519 481\n"
     ]
    }
   ],
   "source": [
    "import random\n",
    "\n",
    "list1=[random.choice([\"heads\", \"tails\"]) for i in range(1000)]\n",
    "\n",
    "print(f'{list1.count(\"heads\")} {list1.count(\"tails\")}') "
   ]
  },
  {
   "cell_type": "code",
   "execution_count": 91,
   "metadata": {},
   "outputs": [],
   "source": [
    "#  nth number in fibonacci series.\n",
    "\n",
    "def fib(n):\n",
    "    phi = (1 + 5**0.5) / 2\n",
    "    x = (phi**n - (1-phi)**n) / 5**.5\n",
    "    return round(x)"
   ]
  },
  {
   "cell_type": "code",
   "execution_count": 97,
   "metadata": {},
   "outputs": [
    {
     "data": {
      "text/plain": [
       "144"
      ]
     },
     "execution_count": 97,
     "metadata": {},
     "output_type": "execute_result"
    }
   ],
   "source": [
    "fib(12)"
   ]
  },
  {
   "cell_type": "markdown",
   "metadata": {},
   "source": [
    "# June 17"
   ]
  },
  {
   "cell_type": "code",
   "execution_count": 17,
   "metadata": {},
   "outputs": [
    {
     "name": "stdout",
     "output_type": "stream",
     "text": [
      "Please specify the len of the fib  number's list: 3\n",
      "[0, 1, 1]\n"
     ]
    }
   ],
   "source": [
    "# Fibonacci series with the len of series.  1111111\n",
    "\n",
    "fib_list = [0,1]\n",
    "\n",
    "xn_2 = 0\n",
    "xn_1 = 1\n",
    "\n",
    "n = int(input(\"Please specify the len of the fib  number's list: \"))\n",
    "\n",
    "if n == 1:\n",
    "    print(fib_list[0])\n",
    "elif n == 2:\n",
    "    print(fib_list)\n",
    "elif n > 2:\n",
    "    \n",
    "    for num in range(n-2):\n",
    "        xn = xn_1 + xn_2\n",
    "        fib_list.append(xn)\n",
    "        xn_2 = xn_1\n",
    "        xn_1 = xn\n",
    "    print(fib_list)\n",
    "        \n",
    "else:\n",
    "    print(\"No Answer\")"
   ]
  },
  {
   "cell_type": "code",
   "execution_count": 27,
   "metadata": {},
   "outputs": [
    {
     "name": "stdout",
     "output_type": "stream",
     "text": [
      "Please enter a number : 0\n",
      "[]\n"
     ]
    }
   ],
   "source": [
    "n= int(input(\"Please enter a number : \")) 222222222\n",
    "A=[0,1]\n",
    "i=2\n",
    "while len(A)<=n:\n",
    "  A.append(A[i-1]+A[i-2])\n",
    "  i+=1\n",
    "print(A[:n])"
   ]
  },
  {
   "cell_type": "markdown",
   "metadata": {},
   "source": [
    "# JUNE 18"
   ]
  },
  {
   "cell_type": "code",
   "execution_count": 28,
   "metadata": {},
   "outputs": [],
   "source": [
    "#  3 FOR MULTP   5 FOR ADD\n",
    "#  n=14 ➞ True\n",
    "#  14 = 3*3 + 5\n",
    "#  n=25 ➞ True\n",
    "#  25 = 5+5+5+5+5\n",
    "#  n=7 ➞ False\n",
    "#  There exists no path to the target number 7\n",
    "#  n=378 -> True"
   ]
  },
  {
   "cell_type": "code",
   "execution_count": 3,
   "metadata": {},
   "outputs": [],
   "source": [
    "def five_three(num):\n",
    "    if num not in [0,1,2,4,7]:\n",
    "        return True\n",
    "    return False"
   ]
  },
  {
   "cell_type": "markdown",
   "metadata": {},
   "source": [
    "### What Is the Walrus Operator in Python?"
   ]
  },
  {
   "cell_type": "code",
   "execution_count": 18,
   "metadata": {},
   "outputs": [
    {
     "name": "stdout",
     "output_type": "stream",
     "text": [
      "The list is too long with 5 elements\n"
     ]
    }
   ],
   "source": [
    "my_list = [1,2,3,4,5]\n",
    "if (n := len(my_list)) > 3:\n",
    "   print(f\"The list is too long with {n} elements\")"
   ]
  },
  {
   "cell_type": "code",
   "execution_count": 19,
   "metadata": {},
   "outputs": [
    {
     "name": "stdout",
     "output_type": "stream",
     "text": [
      "The list is too long with 5 elements\n"
     ]
    }
   ],
   "source": [
    "my_list = [1,2,3,4,5]\n",
    "if len(my_list) > 3:\n",
    "   print(f\"The list is too long with {len(my_list)} elements\")"
   ]
  },
  {
   "cell_type": "code",
   "execution_count": 22,
   "metadata": {},
   "outputs": [],
   "source": [
    "# Paranthesis is important."
   ]
  },
  {
   "cell_type": "code",
   "execution_count": 20,
   "metadata": {},
   "outputs": [
    {
     "name": "stdout",
     "output_type": "stream",
     "text": [
      "5\n"
     ]
    }
   ],
   "source": [
    "my_list = [1,2,3,4,5]\n",
    "if (n := len(my_list)) > 3:\n",
    "   print(n)\n"
   ]
  },
  {
   "cell_type": "code",
   "execution_count": 21,
   "metadata": {},
   "outputs": [
    {
     "name": "stdout",
     "output_type": "stream",
     "text": [
      "True\n"
     ]
    }
   ],
   "source": [
    "if n := len(my_list) > 3:\n",
    "   print(n)"
   ]
  },
  {
   "cell_type": "code",
   "execution_count": 23,
   "metadata": {},
   "outputs": [],
   "source": [
    "# Find the vowels in a word then print all og them in a list"
   ]
  },
  {
   "cell_type": "code",
   "execution_count": 58,
   "metadata": {},
   "outputs": [],
   "source": [
    "def vow_find(word):\n",
    "    vow_list = set()\n",
    "    for let in word:\n",
    "        if let in \"aeiou\":\n",
    "            vow_list.add(let)\n",
    "    print(\"\".join(list(vow_list)))"
   ]
  },
  {
   "cell_type": "code",
   "execution_count": 59,
   "metadata": {},
   "outputs": [
    {
     "name": "stdout",
     "output_type": "stream",
     "text": [
      "aeiou\n"
     ]
    }
   ],
   "source": [
    "vow_find(\"numbereeeeaoiı\")"
   ]
  },
  {
   "cell_type": "code",
   "execution_count": 54,
   "metadata": {},
   "outputs": [],
   "source": []
  },
  {
   "cell_type": "code",
   "execution_count": 55,
   "metadata": {},
   "outputs": [
    {
     "data": {
      "text/plain": [
       "'eee'"
      ]
     },
     "execution_count": 55,
     "metadata": {},
     "output_type": "execute_result"
    }
   ],
   "source": []
  },
  {
   "cell_type": "code",
   "execution_count": 109,
   "metadata": {},
   "outputs": [],
   "source": [
    "def vow_find(word):\n",
    "    vow_str = \"\"\n",
    "    for let in word:\n",
    "        if let in \"aeiou\":\n",
    "            vow_str += let\n",
    "            print(vow_str)\n",
    "    return (\"\".join(set(vow_str)))."
   ]
  },
  {
   "cell_type": "code",
   "execution_count": 110,
   "metadata": {},
   "outputs": [
    {
     "name": "stdout",
     "output_type": "stream",
     "text": [
      "a\n",
      "ae\n",
      "aee\n",
      "aeee\n",
      "aeeee\n",
      "aeeeee\n",
      "aeeeeeo\n",
      "aeeeeeou\n"
     ]
    },
    {
     "ename": "AttributeError",
     "evalue": "'str' object has no attribute 'sort'",
     "output_type": "error",
     "traceback": [
      "\u001b[1;31m---------------------------------------------------------------------------\u001b[0m",
      "\u001b[1;31mAttributeError\u001b[0m                            Traceback (most recent call last)",
      "\u001b[1;32m<ipython-input-110-83557de818e2>\u001b[0m in \u001b[0;36m<module>\u001b[1;34m\u001b[0m\n\u001b[1;32m----> 1\u001b[1;33m \u001b[0mvow_find\u001b[0m\u001b[1;33m(\u001b[0m\u001b[1;34m\"aeıeeqeeou\"\u001b[0m\u001b[1;33m)\u001b[0m\u001b[1;33m\u001b[0m\u001b[1;33m\u001b[0m\u001b[0m\n\u001b[0m",
      "\u001b[1;32m<ipython-input-109-cdf471acca40>\u001b[0m in \u001b[0;36mvow_find\u001b[1;34m(word)\u001b[0m\n\u001b[0;32m      5\u001b[0m             \u001b[0mvow_str\u001b[0m \u001b[1;33m+=\u001b[0m \u001b[0mlet\u001b[0m\u001b[1;33m\u001b[0m\u001b[1;33m\u001b[0m\u001b[0m\n\u001b[0;32m      6\u001b[0m             \u001b[0mprint\u001b[0m\u001b[1;33m(\u001b[0m\u001b[0mvow_str\u001b[0m\u001b[1;33m)\u001b[0m\u001b[1;33m\u001b[0m\u001b[1;33m\u001b[0m\u001b[0m\n\u001b[1;32m----> 7\u001b[1;33m     \u001b[1;32mreturn\u001b[0m \u001b[1;33m(\u001b[0m\u001b[1;34m\"\"\u001b[0m\u001b[1;33m.\u001b[0m\u001b[0mjoin\u001b[0m\u001b[1;33m(\u001b[0m\u001b[0mset\u001b[0m\u001b[1;33m(\u001b[0m\u001b[0mvow_str\u001b[0m\u001b[1;33m)\u001b[0m\u001b[1;33m)\u001b[0m\u001b[1;33m)\u001b[0m\u001b[1;33m.\u001b[0m\u001b[0msort\u001b[0m\u001b[1;33m(\u001b[0m\u001b[1;33m)\u001b[0m\u001b[1;33m\u001b[0m\u001b[1;33m\u001b[0m\u001b[0m\n\u001b[0m",
      "\u001b[1;31mAttributeError\u001b[0m: 'str' object has no attribute 'sort'"
     ]
    }
   ],
   "source": [
    "vow_find(\"aeıeeqeeou\")"
   ]
  },
  {
   "cell_type": "code",
   "execution_count": 111,
   "metadata": {},
   "outputs": [],
   "source": [
    "a = set(\"qweqwda\")"
   ]
  },
  {
   "cell_type": "code",
   "execution_count": 112,
   "metadata": {},
   "outputs": [
    {
     "data": {
      "text/plain": [
       "{'a', 'd', 'e', 'q', 'w'}"
      ]
     },
     "execution_count": 112,
     "metadata": {},
     "output_type": "execute_result"
    }
   ],
   "source": [
    "a"
   ]
  },
  {
   "cell_type": "code",
   "execution_count": null,
   "metadata": {},
   "outputs": [],
   "source": []
  },
  {
   "cell_type": "code",
   "execution_count": null,
   "metadata": {},
   "outputs": [],
   "source": []
  }
 ],
 "metadata": {
  "kernelspec": {
   "display_name": "Python 3",
   "language": "python",
   "name": "python3"
  },
  "language_info": {
   "codemirror_mode": {
    "name": "ipython",
    "version": 3
   },
   "file_extension": ".py",
   "mimetype": "text/x-python",
   "name": "python",
   "nbconvert_exporter": "python",
   "pygments_lexer": "ipython3",
   "version": "3.8.3"
  }
 },
 "nbformat": 4,
 "nbformat_minor": 4
}
